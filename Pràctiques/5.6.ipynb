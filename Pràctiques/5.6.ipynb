{
 "cells": [
  {
   "cell_type": "markdown",
   "metadata": {
    "id": "sjzYPNHsie1w"
   },
   "source": [
    "# Capítol 5 - Dividir i Vèncer"
   ]
  },
  {
   "cell_type": "markdown",
   "metadata": {
    "id": "XCwfxvKOie16"
   },
   "source": [
    "### 5.6 Negatius al davant"
   ]
  },
  {
   "cell_type": "markdown",
   "metadata": {},
   "source": [
    "Escriu una funcio no recursiva anomenada negatius tal que, donada una llista de nombres enters, modifiqui la llista per col·locar els nombres negatius al principi de la llista. Assegura't que l'algorisme té complexitat lineal, no es poden fer servir funcions addicionals de Python: min, max, pop, insert, sort, etc."
   ]
  },
  {
   "cell_type": "code",
   "execution_count": 15,
   "metadata": {
    "id": "lPkE7tsGie16"
   },
   "outputs": [],
   "source": [
    "def negatius(llista):\n",
    "    i = 0 \n",
    "    j = len(llista)-1\n",
    "    while(i < j):\n",
    "        while llista[i] < 0:\n",
    "            i+=1\n",
    "        while llista[j] > 0:\n",
    "            j-=1\n",
    "        if llista[j] < 0 and llista[i] > 0:\n",
    "            llista[i], llista[j] = llista[j],llista[i]\n",
    "            i += 1\n",
    "            j -=1\n",
    "    \"\"\"\n",
    "    Aquesta funció retorna la llista amb els nombres negatius al davant\n",
    "    \n",
    "    Parameters\n",
    "    ----------\n",
    "    llista: list\n",
    "    \n",
    "    Returns\n",
    "    -------\n",
    "    llistaOrdenada: list\n",
    "    \"\"\"\n",
    "    return llista"
   ]
  },
  {
   "cell_type": "code",
   "execution_count": 16,
   "metadata": {
    "id": "mNhUoBmAie16"
   },
   "outputs": [],
   "source": [
    "llista = [1, -2, 3, -4, -3, 5, 6]\n",
    "negatius(llista)\n",
    "assert llista == [-3, -2, -4, 3, 1, 5, 6]"
   ]
  },
  {
   "cell_type": "code",
   "execution_count": 11,
   "metadata": {
    "id": "uf4_uUDbie16"
   },
   "outputs": [
    {
     "data": {
      "text/plain": [
       "[-3, -2, -4, 3, 1, 5, 6]"
      ]
     },
     "execution_count": 11,
     "metadata": {},
     "output_type": "execute_result"
    }
   ],
   "source": []
  },
  {
   "cell_type": "code",
   "execution_count": 14,
   "metadata": {},
   "outputs": [
    {
     "data": {
      "text/plain": [
       "[-1, -6, -3, 4, 3, 5, 2]"
      ]
     },
     "execution_count": 14,
     "metadata": {},
     "output_type": "execute_result"
    }
   ],
   "source": []
  },
  {
   "cell_type": "code",
   "execution_count": null,
   "metadata": {},
   "outputs": [],
   "source": []
  }
 ],
 "metadata": {
  "colab": {
   "collapsed_sections": [],
   "name": "5.6.ipynb",
   "provenance": []
  },
  "kernelspec": {
   "display_name": "Python 3 (ipykernel)",
   "language": "python",
   "name": "python3"
  },
  "language_info": {
   "codemirror_mode": {
    "name": "ipython",
    "version": 3
   },
   "file_extension": ".py",
   "mimetype": "text/x-python",
   "name": "python",
   "nbconvert_exporter": "python",
   "pygments_lexer": "ipython3",
   "version": "3.11.2"
  }
 },
 "nbformat": 4,
 "nbformat_minor": 4
}
