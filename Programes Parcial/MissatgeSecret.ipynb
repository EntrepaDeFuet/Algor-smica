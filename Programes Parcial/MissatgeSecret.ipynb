{
 "cells": [
  {
   "cell_type": "code",
   "execution_count": 4,
   "metadata": {},
   "outputs": [],
   "source": [
    "def extreureclaus (p,q):\n",
    "    n = p*q \n",
    "    m = (p-1)*(q-1)\n",
    "    e = 0\n",
    "    d = 0\n",
    "    possibles = []\n",
    "    for i in range(2,m-1):\n",
    "        for j in range (i,m-1):\n",
    "            if (i*j)%m == 1:\n",
    "                e = i\n",
    "                d = j\n",
    "                possibles.append([e,d])\n",
    "    return possibles"
   ]
  },
  {
   "cell_type": "code",
   "execution_count": 2,
   "metadata": {},
   "outputs": [],
   "source": [
    "import math\n",
    "def eratostenos (n):\n",
    "    sieve = [True for j in range(2,n+1)]\n",
    "    for j in range(2, int(math.sqrt(n))+1):\n",
    "        i = j-2\n",
    "        if sieve[i]:\n",
    "            for k in range(j*j,n+1,j):\n",
    "                sieve[k-2] = False\n",
    "    return [j for j in range(2,n+1) if sieve[j-2]]"
   ]
  },
  {
   "cell_type": "code",
   "execution_count": 7,
   "metadata": {},
   "outputs": [
    {
     "name": "stdout",
     "output_type": "stream",
     "text": [
      " Siusplau tria dos nombres entre 1 i 25.\n",
      "Siusplau, tria dos nombres de la següent llista:\n",
      "[[7, 43], [11, 11], [13, 37], [17, 53], [19, 19], [23, 47], [29, 29], [31, 31], [41, 41], [49, 49]]\n",
      "La teva clau publica serà : ( 77 ,  17 )\n",
      "La teva clau privada serà: ( 77 ,  53 )\n"
     ]
    }
   ],
   "source": [
    "print(\" Siusplau tria dos nombres entre 1 i 25.\")\n",
    "a = input()\n",
    "a = eval(a)\n",
    "p = eratostenos(100)[a]\n",
    "a = input()\n",
    "a = eval(a)\n",
    "q = eratostenos(100)[a]\n",
    "n = p*q\n",
    "m = (p-1)*(q-1)\n",
    "print(\"Siusplau, tria dos nombres de la següent llista:\")\n",
    "print(extreureclaus(p,q))\n",
    "a = input()\n",
    "a = eval(a)\n",
    "e = extreureclaus(p,q)[a][0]\n",
    "d = extreureclaus(p,q)[a][1]\n",
    "print (f\"La teva clau publica serà : (\",n,\", \",e,\")\")\n",
    "print (f\"La teva clau privada serà: (\",n,\", \", d,\")\")"
   ]
  },
  {
   "cell_type": "code",
   "execution_count": 10,
   "metadata": {},
   "outputs": [],
   "source": [
    "def encriptar(n,e,M):\n",
    "    C = (M^e)%n\n",
    "    return C"
   ]
  },
  {
   "cell_type": "code",
   "execution_count": 16,
   "metadata": {},
   "outputs": [
    {
     "name": "stdout",
     "output_type": "stream",
     "text": [
      "Quin missatge vols enviar?\n",
      "Introdueix la clau publica de la persona\n",
      "El missatge encriptat és:  31\n"
     ]
    }
   ],
   "source": [
    "print(\"Quin missatge vols enviar?\")\n",
    "M = eval(input())\n",
    "print(\"Introdueix la clau publica de la persona\")\n",
    "n = eval(input())\n",
    "e = eval(input())\n",
    "C = encriptar(n,e,M)\n",
    "print(f\"El missatge encriptat és: \",C)"
   ]
  },
  {
   "cell_type": "code",
   "execution_count": 19,
   "metadata": {},
   "outputs": [],
   "source": [
    "def desencriptar(n,d,C):\n",
    "    R = (C^d) % n\n",
    "    return R"
   ]
  },
  {
   "cell_type": "code",
   "execution_count": 21,
   "metadata": {},
   "outputs": [
    {
     "name": "stdout",
     "output_type": "stream",
     "text": [
      "Quin missatge has rebut?\n",
      "Introdueix la teva clau privada\n",
      " El missatge és:  42\n"
     ]
    }
   ],
   "source": [
    "print(\"Quin missatge has rebut?\")\n",
    "C = eval(input())\n",
    "print(\"Introdueix la teva clau privada\")\n",
    "n = eval(input())\n",
    "d = eval(input())\n",
    "M = desencriptar(n,d,C)\n",
    "\n",
    "print(f\" El missatge és: \", M)"
   ]
  },
  {
   "cell_type": "code",
   "execution_count": null,
   "metadata": {},
   "outputs": [],
   "source": []
  }
 ],
 "metadata": {
  "kernelspec": {
   "display_name": "Python 3",
   "language": "python",
   "name": "python3"
  },
  "language_info": {
   "codemirror_mode": {
    "name": "ipython",
    "version": 3
   },
   "file_extension": ".py",
   "mimetype": "text/x-python",
   "name": "python",
   "nbconvert_exporter": "python",
   "pygments_lexer": "ipython3",
   "version": "3.12.6"
  }
 },
 "nbformat": 4,
 "nbformat_minor": 2
}
