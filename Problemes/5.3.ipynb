{
 "cells": [
  {
   "cell_type": "markdown",
   "metadata": {
    "id": "TZmUuMEEhkf6"
   },
   "source": [
    "# Capítol 5 - Dividir i Vèncer"
   ]
  },
  {
   "cell_type": "markdown",
   "metadata": {
    "id": "cCaw6ElfhkgC"
   },
   "source": [
    "### 5.3 Seqüència capícua més llarga"
   ]
  },
  {
   "cell_type": "markdown",
   "metadata": {},
   "source": [
    "Escriu una funció que donada una cadena trobi la llargada de la subseqüència capicua més llarga de manera òptima. "
   ]
  },
  {
   "cell_type": "code",
   "execution_count": 9,
   "metadata": {
    "id": "CD8fbLMahkgC"
   },
   "outputs": [],
   "source": [
    "def subs_capicua_opt(cadena, solucions = {}):\n",
    "   longitud = 0\n",
    "   solucions = {'control': 0}\n",
    "   if len(cadena)>1:\n",
    "       \n",
    "      if cadena[0] == cadena [-1]:\n",
    "         longitud +=2\n",
    "         solucions['control'] += longitud\n",
    "         longitud += subs_capicua_opt(cadena[1:-1],solucions)\n",
    "\n",
    "      else:\n",
    "         longitud += max(subs_capicua_opt(cadena[:-1],solucions),subs_capicua_opt(cadena[1:],solucions))\n",
    "         longitud += - solucions['control']\n",
    "         solucions['control'] = 0\n",
    "   else:\n",
    "       return 1\n",
    "   return longitud\n",
    "    \n",
    "   \"\"\"\n",
    "    Aquesta funció troba la subseqüència més llarga capícua\n",
    "    d'una cadena donada de manera òptima amb programació dinàmica\n",
    "    \n",
    "    Parameters\n",
    "    ----------\n",
    "    cadena: string\n",
    "    solucions: dict\n",
    "        diccionari que conté la memòria de solucions \n",
    "        per optimitzar el rendiment\n",
    "    \n",
    "    Returns\n",
    "    -------\n",
    "    longitud: int\n",
    "    \"\"\""
   ]
  },
  {
   "cell_type": "code",
   "execution_count": 10,
   "metadata": {
    "id": "T73jzsLwhkgD"
   },
   "outputs": [],
   "source": [
    "assert subs_capicua_opt(\"APXRABARXP\") == 9"
   ]
  },
  {
   "cell_type": "code",
   "execution_count": 11,
   "metadata": {},
   "outputs": [
    {
     "data": {
      "text/plain": [
       "5"
      ]
     },
     "execution_count": 11,
     "metadata": {},
     "output_type": "execute_result"
    }
   ],
   "source": [
    "subs_capicua_opt(\"AQBABAQ\")"
   ]
  },
  {
   "cell_type": "code",
   "execution_count": 12,
   "metadata": {},
   "outputs": [
    {
     "data": {
      "text/plain": [
       "9"
      ]
     },
     "execution_count": 12,
     "metadata": {},
     "output_type": "execute_result"
    }
   ],
   "source": [
    "subs_capicua_opt(\"APXPRABARXP\")"
   ]
  },
  {
   "cell_type": "code",
   "execution_count": null,
   "metadata": {},
   "outputs": [],
   "source": []
  }
 ],
 "metadata": {
  "colab": {
   "collapsed_sections": [],
   "name": "5.3.ipynb",
   "provenance": []
  },
  "kernelspec": {
   "display_name": "Python 3",
   "language": "python",
   "name": "python3"
  },
  "language_info": {
   "codemirror_mode": {
    "name": "ipython",
    "version": 3
   },
   "file_extension": ".py",
   "mimetype": "text/x-python",
   "name": "python",
   "nbconvert_exporter": "python",
   "pygments_lexer": "ipython3",
   "version": "3.12.6"
  }
 },
 "nbformat": 4,
 "nbformat_minor": 0
}
