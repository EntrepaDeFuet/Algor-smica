{
 "cells": [
  {
   "cell_type": "markdown",
   "metadata": {
    "id": "Tq8bG1MNUhzi"
   },
   "source": [
    "# Capítol 3 - Algorismes i Nombres"
   ]
  },
  {
   "cell_type": "markdown",
   "metadata": {
    "id": "tCtf0jLsUhzy"
   },
   "source": [
    "### 3.6 Aritmetica modular"
   ]
  },
  {
   "cell_type": "markdown",
   "metadata": {},
   "source": [
    "L'última lletra del NIF es calcula a partir dels nombres del DNI. Per fer-ho, s'ha de dividir el número entre 23 i quedar-se amb la resta, que és un nombre entre 0 i 22. Llavors s'aplica la taula següent per transformar aquest nombre en una lletra."
   ]
  },
  {
   "cell_type": "markdown",
   "metadata": {},
   "source": [
    "| Resta | Lletra | Resta | Lletra |\n",
    "| --- | --- | --- | --- |\n",
    "| 0 | T | 12 | N |\n",
    "| 1 | R | 13 | J |\n",
    "| 2 | W | 14 | Z |\n",
    "| 3 | A | 15 | S |\n",
    "| 4 | G | 16 | Q |\n",
    "| 5 | M | 17 | V |\n",
    "| 6 | Y | 18 | H |\n",
    "| 7 | F | 19 | L |\n",
    "| 8 | P | 20 | C |\n",
    "| 9 | D | 21 | K |\n",
    "| 10 | X | 22 | E |\n",
    "| 11 | B |  |  |"
   ]
  },
  {
   "cell_type": "markdown",
   "metadata": {},
   "source": [
    "Escriu una funció que validi si en un NIF, la lletra es correspon realment al número del DNI. Has de fer servir alguna col·lecció de Python que sigui adequada. "
   ]
  },
  {
   "cell_type": "code",
   "execution_count": null,
   "metadata": {
    "id": "_ZIPSE7YUhzy"
   },
   "outputs": [],
   "source": [
    "def validar_NIF(cadenaNIF):\n",
    "    taula = {'0':'T','1':'R','2':'W','3':'A','4':'G',\n",
    "             '5':'M','6':'Y','7':'F','8':'P','9':'D',\n",
    "             '10':'X','11':'B','12':'N','13':'J','14':'Z',\n",
    "             '15':'S','16':'Q','17':'V','18':'H','19':'L',\n",
    "             '20':'C','21':'K','22':'E'}\n",
    "    lletra = cadenaNIF[-1]\n",
    "    resta = str(int(cadenaNIF[:-1])%23)\n",
    "    esCorrecte = taula[resta] == lletra\n",
    "    return esCorrecte\n",
    "    \n",
    "    \"\"\"\n",
    "    Aquesta funció valida si la lletre correspon al DNI\n",
    "    \n",
    "    Parameters\n",
    "    ----------\n",
    "    cadenaNIF: str\n",
    "        NIF\n",
    "        \n",
    "    Returns\n",
    "    -------\n",
    "    esCorrecte: bool\n",
    "        Retorna si el NIF és correcte o no.\n",
    "    \"\"\"\n"
   ]
  },
  {
   "cell_type": "code",
   "execution_count": 4,
   "metadata": {
    "id": "ez-eMr8lUhzy"
   },
   "outputs": [],
   "source": [
    "assert validar_NIF('56789123F') == True\n",
    "assert validar_NIF('56789123H') == False"
   ]
  },
  {
   "cell_type": "markdown",
   "metadata": {},
   "source": [
    "Escriu una funció per convertir un nombre en el nom de la columna del full de càlcul corresponent."
   ]
  },
  {
   "cell_type": "code",
   "execution_count": 38,
   "metadata": {
    "id": "GFAk9cV3Uhzy"
   },
   "outputs": [],
   "source": [
    "def conversio_fulla_calcul(num):\n",
    "    \"\"\"\n",
    "    Aquesta funció tradueix el valor num en el nom corresponent que tindriem en un full de càlcul.\n",
    "    \n",
    "    Parameters\n",
    "    ----------\n",
    "    num: int\n",
    "    \n",
    "    Returns\n",
    "    columna: str\n",
    "    \"\"\"\n",
    "    taula =  {'0':'A','1':'B','2':'C','3':'D',\n",
    "             '4':'E','5':'F','6':'G','7':'H','8':'I',\n",
    "             '9':'J','10':'K','11':'L','12':'M','13':'N',\n",
    "             '14':'O','15':'P','16':'Q','17':'R','18':'S',\n",
    "             '19':'T','20':'U','21':'V','22':'W','23':'X','24':'Y','25':'Z'}\n",
    "    llista = []\n",
    "    numero = num\n",
    "    columna = \"\"\n",
    "    potencia = 0\n",
    "\n",
    "    \"\"\"while numero > 26:\n",
    "        numero /= 26\n",
    "        potencia +=1\n",
    "    numero = num\n",
    "    for i in range(0,potencia):\n",
    "        actual = potencia - i\n",
    "        llista.append(numero%(26**actual))\n",
    "        numero = numero - 26**actual\n",
    "    llista.append(num%26)\"\"\"\n",
    "\n",
    "    while numero > 0:\n",
    "        numero -= 1\n",
    "        llista.append(numero%26)\n",
    "        numero //= 26\n",
    "\n",
    "    for i in llista[-1::-1]:\n",
    "        columna += taula[str(i)]\n",
    "    return columna\n"
   ]
  },
  {
   "cell_type": "code",
   "execution_count": 39,
   "metadata": {
    "id": "DIe-ltSWUhzy"
   },
   "outputs": [],
   "source": [
    "assert conversio_fulla_calcul(1) == 'A'\n",
    "assert conversio_fulla_calcul(25) == 'Y'\n",
    "assert conversio_fulla_calcul(26) == 'Z'\n",
    "assert conversio_fulla_calcul(27) == 'AA'\n",
    "assert conversio_fulla_calcul(28) == 'AB'\n",
    "assert conversio_fulla_calcul(29) == 'AC'\n",
    "assert conversio_fulla_calcul(107) == 'DC'\n",
    "assert conversio_fulla_calcul(406) == 'OP'\n",
    "assert conversio_fulla_calcul(407) == 'OQ'\n",
    "assert conversio_fulla_calcul(408) == 'OR'\n",
    "assert conversio_fulla_calcul(412) == 'OV'\n",
    "assert conversio_fulla_calcul(702) == 'ZZ'\n",
    "assert conversio_fulla_calcul(703) == 'AAA'\n",
    "assert conversio_fulla_calcul(704) == 'AAB'\n",
    "assert conversio_fulla_calcul(705) == 'AAC'\n",
    "assert conversio_fulla_calcul(708) == 'AAF'\n",
    "assert conversio_fulla_calcul(1000) == 'ALL'"
   ]
  },
  {
   "cell_type": "code",
   "execution_count": 40,
   "metadata": {},
   "outputs": [
    {
     "data": {
      "text/plain": [
       "'AC'"
      ]
     },
     "execution_count": 40,
     "metadata": {},
     "output_type": "execute_result"
    }
   ],
   "source": [
    "conversio_fulla_calcul(29)"
   ]
  },
  {
   "cell_type": "code",
   "execution_count": 176,
   "metadata": {},
   "outputs": [
    {
     "data": {
      "text/plain": [
       "26"
      ]
     },
     "execution_count": 176,
     "metadata": {},
     "output_type": "execute_result"
    }
   ],
   "source": [
    "numero = 702 % 26**2\n",
    "numero"
   ]
  },
  {
   "cell_type": "code",
   "execution_count": null,
   "metadata": {},
   "outputs": [],
   "source": []
  }
 ],
 "metadata": {
  "colab": {
   "collapsed_sections": [],
   "name": "3.6.ipynb",
   "provenance": []
  },
  "kernelspec": {
   "display_name": "Python 3",
   "language": "python",
   "name": "python3"
  },
  "language_info": {
   "codemirror_mode": {
    "name": "ipython",
    "version": 3
   },
   "file_extension": ".py",
   "mimetype": "text/x-python",
   "name": "python",
   "nbconvert_exporter": "python",
   "pygments_lexer": "ipython3",
   "version": "3.12.6"
  }
 },
 "nbformat": 4,
 "nbformat_minor": 0
}
