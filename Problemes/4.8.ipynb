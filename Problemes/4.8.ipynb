{
 "cells": [
  {
   "cell_type": "markdown",
   "metadata": {
    "id": "Wwhw_mq0ZtJB"
   },
   "source": [
    "# Capítol 4 - Algorismes i Text"
   ]
  },
  {
   "cell_type": "markdown",
   "metadata": {
    "id": "pudlg3K5ZtJP"
   },
   "source": [
    "### 4.8 Subseqüència en comú més llarga"
   ]
  },
  {
   "cell_type": "markdown",
   "metadata": {},
   "source": [
    "Escriu una funció **basada en la força bruta** tal que, donades dues cadenes de caràcters, identifiqui la longitud de la subseqüència compartida més llarga.\n",
    "\n",
    "En aquest problema definim una subseqüència com una seqüència de caràcters en el mateix ordre que a la cadena original però **no necessàriament consecutiva**. Per exemle, de la paraula ACBA, podem treure'n les subseqüències AC, AB, AA, ACB, ACA, ABA, ACBA, CB, CA, CBA, BA, A, C, B, i de la paraula BRA podem treure'n les subseqüències B, R, A, BR, BA, RA, BRA, i la subseqüència comuna més llarga entre les dues seria BA, amb 2 caràcters.\n",
    "\n",
    "Pots fer servir alguna funció del mòdul \"itertools\"."
   ]
  },
  {
   "cell_type": "code",
   "execution_count": 8,
   "metadata": {
    "id": "ngKWIkPKZtJP"
   },
   "outputs": [],
   "source": [
    "import itertools \n",
    "import math\n",
    "\n",
    "def subsequencia_comu_v1(paraula1, paraula2):\n",
    "    longitud = 0\n",
    "    if paraula1 == \"\" or paraula2 == \"\":\n",
    "        return 0\n",
    "    if paraula1[-1]==paraula2[-1]:\n",
    "        return 1 + (subsequencia_comu_v1(paraula1[0:-1], paraula2[0:-1]))\n",
    "    else:\n",
    "        s1 = subsequencia_comu_v1(paraula1[0:-1],paraula2)\n",
    "        s2 = subsequencia_comu_v1(paraula1,paraula2[0:-1])\n",
    "        if s1 > s2:\n",
    "            return s1\n",
    "        else:\n",
    "            return s2\n",
    "\n",
    "    \"\"\"\n",
    "    Aquesta funció identifica la longitud de la subseqüència mes llarga mitjançanat força bruta.\n",
    "    \n",
    "    Parameters\n",
    "    ----------\n",
    "    paraula1: string\n",
    "    paraula2: string\n",
    "    \n",
    "    Returns\n",
    "    -------\n",
    "    numCaractersComuns: int\n",
    "    \"\"\"\n",
    "    \n",
    "    def extreure_sub_sequencies(paraula):\n",
    "        n = len(paraula)\n",
    "        llista = []\n",
    "        for i in n:\n",
    "            llista += list(itertools.combinations(paraula,i+1))\n",
    "        return llista\n",
    "  "
   ]
  },
  {
   "cell_type": "code",
   "execution_count": 19,
   "metadata": {},
   "outputs": [
    {
     "name": "stdout",
     "output_type": "stream",
     "text": [
      "[('S', 'T', 'U'), ('S', 'T', 'T'), ('S', 'T', 'V'), ('S', 'T', 'S'), ('S', 'T', 'T'), ('S', 'U', 'T'), ('S', 'U', 'V'), ('S', 'U', 'S'), ('S', 'U', 'T'), ('S', 'T', 'V'), ('S', 'T', 'S'), ('S', 'T', 'T'), ('S', 'V', 'S'), ('S', 'V', 'T'), ('S', 'S', 'T'), ('T', 'U', 'T'), ('T', 'U', 'V'), ('T', 'U', 'S'), ('T', 'U', 'T'), ('T', 'T', 'V'), ('T', 'T', 'S'), ('T', 'T', 'T'), ('T', 'V', 'S'), ('T', 'V', 'T'), ('T', 'S', 'T'), ('U', 'T', 'V'), ('U', 'T', 'S'), ('U', 'T', 'T'), ('U', 'V', 'S'), ('U', 'V', 'T'), ('U', 'S', 'T'), ('T', 'V', 'S'), ('T', 'V', 'T'), ('T', 'S', 'T'), ('V', 'S', 'T')]\n"
     ]
    }
   ],
   "source": [
    "# demostració itertools\n",
    "# https://docs.python.org/3/library/itertools.html\n",
    "import itertools\n",
    "paraula=\"STUTVST\"\n",
    "llista=list(itertools.combinations(paraula, 3))\n",
    "print(llista)"
   ]
  },
  {
   "cell_type": "code",
   "execution_count": 18,
   "metadata": {},
   "outputs": [
    {
     "name": "stdout",
     "output_type": "stream",
     "text": [
      "{1, 4}\n"
     ]
    }
   ],
   "source": [
    "# demostració intersection\n",
    "c1={1,2,3,4}\n",
    "c2={7,4,1,5}\n",
    "intersect = c1.intersection(c2)\n",
    "print(intersect)"
   ]
  },
  {
   "cell_type": "code",
   "execution_count": 7,
   "metadata": {
    "id": "kWKm3RJ_ZtJP"
   },
   "outputs": [],
   "source": [
    "assert subsequencia_comu_v1('STUTVST', 'TVUSTS') == 4"
   ]
  },
  {
   "cell_type": "markdown",
   "metadata": {},
   "source": [
    "Si ens fixem en el codi, veurem que sovint es repeteixen càlculs. El que podem fer és usar un diccionari que vagi guardant les solucions parcials ja calculades i, cada cop que n'hagim de calcular una, mirar el diccionari per veure si ja s'ha calculat.\n",
    "\n",
    "En el moment de calcular una solució parcial, si ja hi és, mirem el resultat en comptes de calcular-la de nou; altrament, la calculem i l'emmagatzemem al diccionari."
   ]
  },
  {
   "cell_type": "code",
   "execution_count": null,
   "metadata": {
    "id": "T57xh64vZtJP"
   },
   "outputs": [],
   "source": [
    "def subsequencia_comu_v2(paraula1, paraula2):\n",
    "    # el teu codi\n",
    "    return numCaractersComuns"
   ]
  },
  {
   "cell_type": "markdown",
   "metadata": {},
   "source": [
    "També podem construir la solució usant una taula que vagi guardant els valors de la subseqüència més llarga. \n",
    "\n",
    "Per exemple, per a les paraules SUBCADENA i ABECEDARI, la taula seria la següent:\n",
    "\n",
    "|       |   |   | 0 | 1 | 2 | 3 | 4 | 5 | 6 | 7 | 8 |\n",
    "|-------|---|---|---|---|---|---|---|---|---|---|---|\n",
    "|       |   |   | S | U | B | C | A | D | E | N | A |\n",
    "|       |   | 0 | 0 | 0 | 0 | 0 | 0 | 0 | 0 | 0 | 0 |\n",
    "| **0** | A | 0 | 0 | 0 | 0 | 0 | 1 | 1 | 1 | 1 | 1 |\n",
    "| **1** | B | 0 | 0 | 0 | 1 | 1 | 1 | 1 | 1 | 1 | 1 |\n",
    "| **2** | E | 0 | 0 | 0 | 1 | 1 | 1 | 1 | 2 | 2 | 2 |\n",
    "| **3** | C | 0 | 0 | 0 | 1 | 2 | 2 | 2 | 2 | 2 | 2 |\n",
    "| **4** | E | 0 | 0 | 0 | 1 | 2 | 2 | 2 | 3 | 3 | 3 |\n",
    "| **5** | D | 0 | 0 | 0 | 1 | 2 | 2 | 3 | 3 | 3 | 3 |\n",
    "| **6** | A | 0 | 0 | 0 | 1 | 2 | 3 | 3 | 3 | 3 | 4 |\n",
    "| **7** | R | 0 | 0 | 0 | 1 | 2 | 3 | 3 | 3 | 3 | 4 |\n",
    "| **8** | I | 0 | 0 | 0 | 1 | 2 | 3 | 3 | 3 | 3 | 4 |\n",
    "\n",
    "La casella [i][j] guarda el valor de longitud de la subseqüència més llarga entre la cadena1[0:j] i cadena2[0:i]"
   ]
  },
  {
   "cell_type": "code",
   "execution_count": 21,
   "metadata": {
    "id": "auk2BrBtZtJP"
   },
   "outputs": [],
   "source": [
    "def subsequencia_comu_v3(cadena1, cadena2):\n",
    "    llista = []\n",
    "    for i in (range(len(cadena1)+1)):\n",
    "        columna = []\n",
    "        for j in range((len(cadena2)+1)):\n",
    "            columna.append(0)\n",
    "        llista.append(columna)\n",
    "    \n",
    "    for i in range(len(llista)):\n",
    "        valor = 0\n",
    "        for j in range(len(llista[i])):\n",
    "            if llista[0][i] == llista [j][0]:\n",
    "                valor += 1\n",
    "            llista[i][j]=valor\n",
    "    print (llista)\n",
    "    return llista[-1][-1]\n",
    "\n",
    "    \"\"\"\n",
    "    Aquesta funció identifica la longitud de la subseqüència\n",
    "    compartida més llarga. \n",
    "    En aquest algorisme s'optimitzen els càlculs amb una taula on es guarden\n",
    "    les solucions parcials\n",
    "    Parameters\n",
    "    ----------\n",
    "    cadena1: string\n",
    "    cadena2: string \n",
    "        Cadenes en les que buscar la subseqüència\n",
    "        \n",
    "    Returns\n",
    "    -------\n",
    "    numCaractersComuns: int\n",
    "        Longitud de la subseqüència més llarga\n",
    "    \"\"\""
   ]
  },
  {
   "cell_type": "code",
   "execution_count": 22,
   "metadata": {
    "id": "LctIuThEZtJP"
   },
   "outputs": [
    {
     "ename": "IndexError",
     "evalue": "list index out of range",
     "output_type": "error",
     "traceback": [
      "\u001b[1;31m---------------------------------------------------------------------------\u001b[0m",
      "\u001b[1;31mIndexError\u001b[0m                                Traceback (most recent call last)",
      "Cell \u001b[1;32mIn[22], line 1\u001b[0m\n\u001b[1;32m----> 1\u001b[0m \u001b[38;5;28;01massert\u001b[39;00m \u001b[43msubsequencia_comu_v3\u001b[49m\u001b[43m(\u001b[49m\u001b[38;5;124;43m'\u001b[39;49m\u001b[38;5;124;43mXMJYAUZ\u001b[39;49m\u001b[38;5;124;43m'\u001b[39;49m\u001b[43m,\u001b[49m\u001b[38;5;124;43m'\u001b[39;49m\u001b[38;5;124;43mMZJAWU\u001b[39;49m\u001b[38;5;124;43m'\u001b[39;49m\u001b[43m)\u001b[49m \u001b[38;5;241m==\u001b[39m \u001b[38;5;241m4\u001b[39m\n",
      "Cell \u001b[1;32mIn[21], line 12\u001b[0m, in \u001b[0;36msubsequencia_comu_v3\u001b[1;34m(cadena1, cadena2)\u001b[0m\n\u001b[0;32m     10\u001b[0m valor \u001b[38;5;241m=\u001b[39m \u001b[38;5;241m0\u001b[39m\n\u001b[0;32m     11\u001b[0m \u001b[38;5;28;01mfor\u001b[39;00m j \u001b[38;5;129;01min\u001b[39;00m \u001b[38;5;28mrange\u001b[39m(\u001b[38;5;28mlen\u001b[39m(llista[i])):\n\u001b[1;32m---> 12\u001b[0m     \u001b[38;5;28;01mif\u001b[39;00m \u001b[43mllista\u001b[49m\u001b[43m[\u001b[49m\u001b[38;5;241;43m0\u001b[39;49m\u001b[43m]\u001b[49m\u001b[43m[\u001b[49m\u001b[43mi\u001b[49m\u001b[43m]\u001b[49m \u001b[38;5;241m==\u001b[39m llista [j][\u001b[38;5;241m0\u001b[39m]:\n\u001b[0;32m     13\u001b[0m         valor \u001b[38;5;241m+\u001b[39m\u001b[38;5;241m=\u001b[39m \u001b[38;5;241m1\u001b[39m\n\u001b[0;32m     14\u001b[0m     llista[i][j]\u001b[38;5;241m=\u001b[39mvalor\n",
      "\u001b[1;31mIndexError\u001b[0m: list index out of range"
     ]
    }
   ],
   "source": [
    "assert subsequencia_comu_v3('XMJYAUZ','MZJAWU') == 4"
   ]
  },
  {
   "cell_type": "code",
   "execution_count": 20,
   "metadata": {},
   "outputs": [
    {
     "name": "stdout",
     "output_type": "stream",
     "text": [
      "[[1, 1, 1, 1, 1, 1, 1], [0, 0, 0, 0, 0, 0, 0], [0, 0, 0, 0, 0, 0, 0], [0, 0, 0, 0, 0, 0, 0], [0, 0, 0, 0, 0, 0, 0], [0, 0, 0, 0, 0, 0, 0], [0, 0, 0, 0, 0, 0, 0], [0, 0, 0, 0, 0, 0, 0]]\n"
     ]
    },
    {
     "data": {
      "text/plain": [
       "0"
      ]
     },
     "execution_count": 20,
     "metadata": {},
     "output_type": "execute_result"
    }
   ],
   "source": [
    "subsequencia_comu_v3('XMJYAUZ','MZJAWU')"
   ]
  },
  {
   "cell_type": "markdown",
   "metadata": {
    "id": "-3uU250EZtJQ"
   },
   "source": [
    " La complexitat de l'algorisme és O( )."
   ]
  }
 ],
 "metadata": {
  "colab": {
   "collapsed_sections": [],
   "name": "4.8.ipynb",
   "provenance": []
  },
  "kernelspec": {
   "display_name": "Python 3",
   "language": "python",
   "name": "python3"
  },
  "language_info": {
   "codemirror_mode": {
    "name": "ipython",
    "version": 3
   },
   "file_extension": ".py",
   "mimetype": "text/x-python",
   "name": "python",
   "nbconvert_exporter": "python",
   "pygments_lexer": "ipython3",
   "version": "3.12.6"
  }
 },
 "nbformat": 4,
 "nbformat_minor": 4
}
