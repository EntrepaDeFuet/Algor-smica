{
  "cells": [
    {
      "cell_type": "markdown",
      "metadata": {
        "id": "w3WU_cWlZE_r"
      },
      "source": [
        "# Prova 1 de laboratori\n",
        "## Grau d'Enginyeria Informàtica."
      ]
    },
    {
      "cell_type": "markdown",
      "metadata": {},
      "source": [
        "La prova de laboratori està puntuada sobre 10. Aquesta prova té un pes de 0.5 punts a la nota final del curs."
      ]
    },
    {
      "cell_type": "markdown",
      "metadata": {},
      "source": [
        "## Pautes de correcció\n",
        "\n",
        "Cada exercici s'avalua sobre 10 i després es pondera segons els punts\n",
        "\n",
        "Un exercici que no s'executi correctament amb *totes* les proves donades i amb la crida donada serà avaluat amb un 0\n",
        "Un exercici que no funcioni amb altres casos possibles serà avaluat amb un màxim de 2.5\n",
        "Un exercici que funcioni en tots els casos i amb la complexitat indicada o menor serà avaluat amb un 5 + altres punts segons s'indica.\n",
        "+ se sumen 2 punts segons l'eficiència codi i complexitat ben explicada i calculada\n",
        "+ se sumen 2 punts segons elegància i claredat codi, comentaris\n",
        "+ se suma 1 punt: criteris segons problema \n",
        "\n",
        "En alguns problemes hi ha llibreries de Python que resolen el quid de l'exercici, però que per raons òbvies no es poden fer servir. Per exemple, si el problema és d'ordenació no es pot fer servir la funció de Python _sort_. Si algun problema vulnera aquesta limitació serà avaluat amb un 0, per més que es compleixin els anteriors requisits. En cas de dubte pregunteu al professorat si una determinada funció està permesa o no."
      ]
    },
    {
      "cell_type": "markdown",
      "metadata": {
        "id": "U_6fEZAnWl71"
      },
      "source": [
        "## Exercici 1 (5 punts)\n",
        "Escriu una funció que donat un nombre enter decimal, el converteixi a un altre número en un sistema de numeració en base 4 composat pels següents símbols [Vermell, Blau, Verd, Groc].\n",
        "\n",
        "Per exemple, el 5 traduit a aquest sistema s'escriuria \"BlauBlau\" i el 7 \"BlauGroc\". I el 3 \"Groc\".\n",
        "\n",
        "\n",
        " Calcula'n la complexitat."
      ]
    },
    {
      "cell_type": "code",
      "execution_count": 2,
      "metadata": {},
      "outputs": [
        {
          "name": "stdout",
          "output_type": "stream",
          "text": [
            "1\n",
            "3\n"
          ]
        }
      ],
      "source": [
        "# Per a aquest exercici et poden ser útils:\n",
        "\n",
        "# n%x Retorna el residu de la divisió de n entre x\n",
        "# n//x Retorna la divisió entera de n entre x\n",
        "# Exemple\n",
        "print(10%3)\n",
        "print(10//3)"
      ]
    },
    {
      "cell_type": "code",
      "execution_count": 61,
      "metadata": {},
      "outputs": [],
      "source": [
        "# Completar el codi \n",
        "\n",
        "def conversio_color(n):\n",
        "    escala = {0:'Vermell',1:'Blau',2:'Verd',3:'Groc'}\n",
        "    \"\"\"\n",
        "    Aquesta funció tradueix el valor n en la cadena de text corresponent segons el \n",
        "    sistema de numeració de colors.\n",
        "    \n",
        "    Parameters\n",
        "    ----------\n",
        "    num: int\n",
        "    \n",
        "    Returns\n",
        "    column:str\n",
        "    \"\"\"\n",
        "    auxiliar = ''\n",
        "    num = n\n",
        "    cadena = ''\n",
        "    llista = []\n",
        "    \"\"\"\"Fem aquest bucle per tal de treure'n els divisors\"\"\"\n",
        "    while num > 0:\n",
        "        if num >= 4:\n",
        "            auxiliar = num%4\n",
        "            llista.append(escala[auxiliar])\n",
        "            \"\"\"\"Fem servir la llista per tal d'enmagatzemar els valors i després recorre-la.\"\"\"\n",
        "            num = int(num/4)\n",
        "        elif num < 4:\n",
        "            auxiliar = num\n",
        "            llista.append(escala[auxiliar])\n",
        "            num = 0\n",
        "    for i in range(len(llista)):\n",
        "        cadena += llista[len(llista)-i-1]\n",
        "\"\"\"Recorrem la llista a l'inversa per tal de col·locar correctament els colors. Igual que quan manipulem nombres binaris.\"\"\"\n",
        "\n",
        "    return cadena"
      ]
    },
    {
      "cell_type": "code",
      "execution_count": null,
      "metadata": {},
      "outputs": [],
      "source": [
        "# Repetir el codi de la funció i posar cost al costat de cada línia\n",
        "\"\"\"\n",
        "auxiliar = '' ->cost 1\n",
        "    num = n  ->cost 1\n",
        "    cadena = '' ->cost 1\n",
        "    llista = [] ->cost 1\n",
        "   \n",
        "    while num > 0: ->cost (n*bucle)+1 (n cops el bucle i desps +1 de a > b)\n",
        "        if num >= 4: ->cost 1\n",
        "            auxiliar = num%4 ->cost 2\n",
        "            llista.append(escala[auxiliar]) cost 2\n",
        "            \n",
        "            num = int(num/4) ->cost 3\n",
        "        elif num < 4: ->cost 2\n",
        "            auxiliar = num ->cost 1\n",
        "            llista.append(escala[auxiliar]) ->cost 2\n",
        "            num = 0 ->cost 1\n",
        "\n",
        "            ****Aquest primer bucle te un total de n*(8)+1, on n = num//4.***\n",
        "\n",
        "    for i in range(len(llista)): ->cost len(llista)*bucle +3\n",
        "        cadena += llista[len(llista)-i-1] ->cost 5\n",
        "\n",
        "        ***Aquest segon bucle té un cost 5*len(llista)+3 on len(llista) sera aproximadament num//4 ***\n",
        "\n",
        "    return cadena -> cost 1\n",
        "        \"\"\""
      ]
    },
    {
      "cell_type": "markdown",
      "metadata": {},
      "source": [
        "Respondre aquí (omplir ordre i raonament):\n",
        "\n",
        "La complexitat de la funció és de O(num//4) perquè només s'arriba a fer 2 bucles de tamany màxim 'num//4'. "
      ]
    },
    {
      "cell_type": "code",
      "execution_count": 62,
      "metadata": {},
      "outputs": [],
      "source": [
        "assert conversio_color(5) == \"BlauBlau\"\n",
        "assert conversio_color(7) == \"BlauGroc\"\n",
        "assert conversio_color(10) == \"VerdVerd\"\n",
        "assert conversio_color(20) == \"BlauBlauVermell\"\n",
        "assert conversio_color(50) == \"GrocVermellVerd\""
      ]
    },
    {
      "cell_type": "markdown",
      "metadata": {
        "id": "Yq-WdxPvXbP6"
      },
      "source": [
        "## Exercici 2 (5 punts)\n",
        "\n",
        "Escriu una funció que compti la suma dels dígits d'un nombre (menor que 10) elevat a una potència.\n",
        "\n",
        "Per exemple si com a entrada li donem 2, 6, que correspondria a 2^6, és a dir, a 64, la sortida ha de ser 10, perquè 6+4 suma 10."
      ]
    },
    {
      "cell_type": "code",
      "execution_count": 5,
      "metadata": {},
      "outputs": [
        {
          "name": "stdout",
          "output_type": "stream",
          "text": [
            "10\n",
            "14\n"
          ]
        }
      ],
      "source": [
        "# Per a aquest exercici et poden ser útils les funcions:\n",
        "\n",
        "# str(n) Converteix un enter en una cadena de text\n",
        "# int(n) Converteix una cadena de text en un enter\n",
        "\n",
        "# Exemple\n",
        "print(str(10))\n",
        "print(int(\"14\"))\n",
        "\n",
        "# Recorda també el patró del acumulador\n"
      ]
    },
    {
      "cell_type": "code",
      "execution_count": 63,
      "metadata": {
        "id": "F5gq7iyZXsRF"
      },
      "outputs": [],
      "source": [
        "# Completar el codi \n",
        "\n",
        "def suma_digits(num, potencia):\n",
        "    \"\"\"\n",
        "    Aquesta funció calcula la suma dels digits d'un número menor que 10 elevat a una potència.\n",
        "    \n",
        "    Parameters\n",
        "    ----------\n",
        "    num: int\n",
        "        Base\n",
        "    potencia: int\n",
        "        Exponent\n",
        "        \n",
        "    Returns\n",
        "    -------\n",
        "    suma: int\n",
        "        Suma dels digits\n",
        "    \"\"\"\n",
        "    suma = 0\n",
        "    n = num**potencia\n",
        "    \"\"\"Com sabem que 10**potencia sempre és mes gran que qualsevol nombre k<10 elevat a potencia podem definir el nostre bucle com a:\"\"\"\n",
        "    for i in range(potencia+1):\n",
        "        \"\"\"A continuació fem servir el operador // per tal de extreure'n el nombre de cops per els quals es multiplica 10 elevat a la xifra corresponent\"\"\"\n",
        "        suma += n//(10**(potencia-i))\n",
        "        \"\"\"A continuació es resta per tal d'extreure la xifra, es a dir extreuriem les desenes, les centessimes etc etc.\"\"\"\n",
        "        n -= (n//(10**(potencia-i)))*10**(potencia-i)\n",
        "    return suma"
      ]
    },
    {
      "cell_type": "code",
      "execution_count": 64,
      "metadata": {},
      "outputs": [],
      "source": [
        "assert suma_digits(7,0)==1\n",
        "assert suma_digits(7,1)==7\n",
        "assert suma_digits(7,2)==13\n",
        "assert suma_digits(7,3)==10\n",
        "assert suma_digits(7,4)==7\n",
        "assert suma_digits(3,20)==45\n",
        "assert suma_digits(3,100)==153"
      ]
    },
    {
      "cell_type": "code",
      "execution_count": null,
      "metadata": {},
      "outputs": [],
      "source": [
        "## Repetir el codi de la funció i posar cost al costat de cada línia\n",
        "\"\"\"\n",
        "suma = 0  -> cost 1\n",
        "    n = num**potencia -> cost 2\n",
        "    \n",
        "    for i in range(potencia+1): -> cost (potencia+1)*bucle +3\n",
        "        \n",
        "        suma += n//(10**(potencia-i)) -> cost 5\n",
        "        \n",
        "        n -= (n//(10**(potencia-i)))*10**(potencia-i) -> cost 8\n",
        "        ***El cost total d'aquest bucle es de (potencia+1)*13+3***\n",
        "    return suma -> cost 1\n",
        "\"\"\"\n",
        "# Per al cost, quan calculeu el nombre de digits de la potencia, podeu calcular \n",
        "# com si la base fos 10; com que la base és més petita aquest serà el cost pitjor."
      ]
    },
    {
      "cell_type": "markdown",
      "metadata": {},
      "source": [
        "Respondre aquí (omplir ordre i raonament):\n",
        "\n",
        "La complexitat de la funció és de O(potencia+1) perquè es fa un sol bucle de potencia+1 vegades i en el polinomi es la variable de major grau. Tal que: 13(potencia+1)+7."
      ]
    }
  ],
  "metadata": {
    "colab": {
      "provenance": []
    },
    "kernelspec": {
      "display_name": "Python 3",
      "name": "python3"
    },
    "language_info": {
      "codemirror_mode": {
        "name": "ipython",
        "version": 3
      },
      "file_extension": ".py",
      "mimetype": "text/x-python",
      "name": "python",
      "nbconvert_exporter": "python",
      "pygments_lexer": "ipython3",
      "version": "3.11.2"
    }
  },
  "nbformat": 4,
  "nbformat_minor": 0
}
