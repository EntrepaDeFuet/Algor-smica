{
 "cells": [
  {
   "cell_type": "markdown",
   "metadata": {
    "id": "NXwm80_4ljyd"
   },
   "source": [
    "# Capítol 5 - Dividir i Vèncer"
   ]
  },
  {
   "cell_type": "markdown",
   "metadata": {
    "id": "Zwowf4Naljyq"
   },
   "source": [
    "### 5.19 Karatsuba"
   ]
  },
  {
   "cell_type": "markdown",
   "metadata": {},
   "source": [
    "Escriu una funció recursiva que calculi la multiplicació pel mètode de Karatsuba en base 10 de dos nombres. Apunta la complexitat de les operacions involucrades i explica quantes vegades es crida en executar `karatsuba(1000, 1050)`."
   ]
  },
  {
   "cell_type": "code",
   "execution_count": 7,
   "metadata": {
    "id": "fappkOz1ljyq"
   },
   "outputs": [],
   "source": [
    "import math\n",
    "def karatsuba(x,y):\n",
    "\n",
    "    if x < 10 or y < 10:\n",
    "        return num1 * num2\n",
    "    else:\n",
    "\n",
    "        m = max(len(str(x)),len(str(y)))\n",
    "        m2 = math.floor(m/2)\n",
    "        a = x // 10**m\n",
    "        b = x % 10**m\n",
    "        c = y // 10**m\n",
    "        d = y % 10**m\n",
    "\n",
    "        z0 = karatsuba(b, d)\n",
    "        z1 = karatsuba(b + a, c + d)\n",
    "        z2 = karatsuba(a, c)\n",
    "\n",
    "    return (z2 * 10 ** (m2 * 2)) + ((z1 - z2 - z0) * 10 ** m2) + z0\n",
    "    \"\"\"\n",
    "    Aquesta funció implementa l'algorisme de multiplicació de Karatsuba de manera recursiva.\n",
    "    \n",
    "    Parameters\n",
    "    ----------\n",
    "    x: int\n",
    "    y: int\n",
    "    \n",
    "    Returns\n",
    "    -------\n",
    "    prod: int\n",
    "    \"\"\"\n",
    "    \n",
    "    return prod"
   ]
  },
  {
   "cell_type": "code",
   "execution_count": 8,
   "metadata": {
    "id": "jBmU2KUQljyq"
   },
   "outputs": [
    {
     "ename": "RecursionError",
     "evalue": "maximum recursion depth exceeded",
     "output_type": "error",
     "traceback": [
      "\u001b[1;31m---------------------------------------------------------------------------\u001b[0m",
      "\u001b[1;31mRecursionError\u001b[0m                            Traceback (most recent call last)",
      "Cell \u001b[1;32mIn[8], line 1\u001b[0m\n\u001b[1;32m----> 1\u001b[0m \u001b[38;5;28;01massert\u001b[39;00m \u001b[43mkaratsuba\u001b[49m\u001b[43m(\u001b[49m\u001b[38;5;241;43m1100\u001b[39;49m\u001b[43m,\u001b[49m\u001b[38;5;241;43m4050\u001b[39;49m\u001b[43m)\u001b[49m \u001b[38;5;241m==\u001b[39m \u001b[38;5;241m4455000\u001b[39m\n",
      "Cell \u001b[1;32mIn[7], line 15\u001b[0m, in \u001b[0;36mkaratsuba\u001b[1;34m(x, y)\u001b[0m\n\u001b[0;32m     12\u001b[0m c \u001b[38;5;241m=\u001b[39m y \u001b[38;5;241m/\u001b[39m\u001b[38;5;241m/\u001b[39m \u001b[38;5;241m10\u001b[39m\u001b[38;5;241m*\u001b[39m\u001b[38;5;241m*\u001b[39mm\n\u001b[0;32m     13\u001b[0m d \u001b[38;5;241m=\u001b[39m y \u001b[38;5;241m%\u001b[39m \u001b[38;5;241m10\u001b[39m\u001b[38;5;241m*\u001b[39m\u001b[38;5;241m*\u001b[39mm\n\u001b[1;32m---> 15\u001b[0m z0 \u001b[38;5;241m=\u001b[39m \u001b[43mkaratsuba\u001b[49m\u001b[43m(\u001b[49m\u001b[43mb\u001b[49m\u001b[43m,\u001b[49m\u001b[43m \u001b[49m\u001b[43md\u001b[49m\u001b[43m)\u001b[49m\n\u001b[0;32m     16\u001b[0m z1 \u001b[38;5;241m=\u001b[39m karatsuba(b \u001b[38;5;241m+\u001b[39m a, c \u001b[38;5;241m+\u001b[39m d)\n\u001b[0;32m     17\u001b[0m z2 \u001b[38;5;241m=\u001b[39m karatsuba(a, c)\n",
      "Cell \u001b[1;32mIn[7], line 15\u001b[0m, in \u001b[0;36mkaratsuba\u001b[1;34m(x, y)\u001b[0m\n\u001b[0;32m     12\u001b[0m c \u001b[38;5;241m=\u001b[39m y \u001b[38;5;241m/\u001b[39m\u001b[38;5;241m/\u001b[39m \u001b[38;5;241m10\u001b[39m\u001b[38;5;241m*\u001b[39m\u001b[38;5;241m*\u001b[39mm\n\u001b[0;32m     13\u001b[0m d \u001b[38;5;241m=\u001b[39m y \u001b[38;5;241m%\u001b[39m \u001b[38;5;241m10\u001b[39m\u001b[38;5;241m*\u001b[39m\u001b[38;5;241m*\u001b[39mm\n\u001b[1;32m---> 15\u001b[0m z0 \u001b[38;5;241m=\u001b[39m \u001b[43mkaratsuba\u001b[49m\u001b[43m(\u001b[49m\u001b[43mb\u001b[49m\u001b[43m,\u001b[49m\u001b[43m \u001b[49m\u001b[43md\u001b[49m\u001b[43m)\u001b[49m\n\u001b[0;32m     16\u001b[0m z1 \u001b[38;5;241m=\u001b[39m karatsuba(b \u001b[38;5;241m+\u001b[39m a, c \u001b[38;5;241m+\u001b[39m d)\n\u001b[0;32m     17\u001b[0m z2 \u001b[38;5;241m=\u001b[39m karatsuba(a, c)\n",
      "    \u001b[1;31m[... skipping similar frames: karatsuba at line 15 (2974 times)]\u001b[0m\n",
      "Cell \u001b[1;32mIn[7], line 15\u001b[0m, in \u001b[0;36mkaratsuba\u001b[1;34m(x, y)\u001b[0m\n\u001b[0;32m     12\u001b[0m c \u001b[38;5;241m=\u001b[39m y \u001b[38;5;241m/\u001b[39m\u001b[38;5;241m/\u001b[39m \u001b[38;5;241m10\u001b[39m\u001b[38;5;241m*\u001b[39m\u001b[38;5;241m*\u001b[39mm\n\u001b[0;32m     13\u001b[0m d \u001b[38;5;241m=\u001b[39m y \u001b[38;5;241m%\u001b[39m \u001b[38;5;241m10\u001b[39m\u001b[38;5;241m*\u001b[39m\u001b[38;5;241m*\u001b[39mm\n\u001b[1;32m---> 15\u001b[0m z0 \u001b[38;5;241m=\u001b[39m \u001b[43mkaratsuba\u001b[49m\u001b[43m(\u001b[49m\u001b[43mb\u001b[49m\u001b[43m,\u001b[49m\u001b[43m \u001b[49m\u001b[43md\u001b[49m\u001b[43m)\u001b[49m\n\u001b[0;32m     16\u001b[0m z1 \u001b[38;5;241m=\u001b[39m karatsuba(b \u001b[38;5;241m+\u001b[39m a, c \u001b[38;5;241m+\u001b[39m d)\n\u001b[0;32m     17\u001b[0m z2 \u001b[38;5;241m=\u001b[39m karatsuba(a, c)\n",
      "\u001b[1;31mRecursionError\u001b[0m: maximum recursion depth exceeded"
     ]
    }
   ],
   "source": [
    "assert karatsuba(1100,4050) == 4455000"
   ]
  },
  {
   "cell_type": "code",
   "execution_count": null,
   "metadata": {
    "id": "UrltdURoljyw"
   },
   "outputs": [],
   "source": []
  }
 ],
 "metadata": {
  "colab": {
   "collapsed_sections": [],
   "name": "5.19.ipynb",
   "provenance": []
  },
  "kernelspec": {
   "display_name": "Python 3",
   "language": "python",
   "name": "python3"
  },
  "language_info": {
   "codemirror_mode": {
    "name": "ipython",
    "version": 3
   },
   "file_extension": ".py",
   "mimetype": "text/x-python",
   "name": "python",
   "nbconvert_exporter": "python",
   "pygments_lexer": "ipython3",
   "version": "3.12.6"
  }
 },
 "nbformat": 4,
 "nbformat_minor": 0
}
